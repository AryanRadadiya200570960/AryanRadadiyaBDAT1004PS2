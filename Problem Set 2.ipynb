{
 "cells": [
  {
   "cell_type": "markdown",
   "id": "bf42910e",
   "metadata": {},
   "source": [
    "<h3>Question 1</h3>\n",
    "<h4>Consider the following Python module:</h4>"
   ]
  },
  {
   "cell_type": "code",
   "execution_count": 6,
   "id": "48bc7a6e",
   "metadata": {},
   "outputs": [],
   "source": [
    "a = 0\n",
    "def b():\n",
    "    global a\n",
    "    a = c(a)\n",
    "def c(a):\n",
    "    return a + 2"
   ]
  },
  {
   "cell_type": "markdown",
   "id": "81d00311",
   "metadata": {},
   "source": [
    "<h4>After importing the module into the interpreter, you execute<br><br>\n",
    "What value is displayed when the last expression (a) is evaluated? Explain your\n",
    "answer by indicating what happens in every executed statement.</h4>"
   ]
  },
  {
   "cell_type": "markdown",
   "id": "6bc1d640",
   "metadata": {},
   "source": [
    "a is global variable so ve can use it in any function we want.\n",
    "Here when the function runs it executes c() function and inside c() function 2 is added to a and it returns the value."
   ]
  },
  {
   "cell_type": "code",
   "execution_count": 7,
   "id": "4327b119",
   "metadata": {},
   "outputs": [],
   "source": [
    "b()"
   ]
  },
  {
   "cell_type": "markdown",
   "id": "e8b4efea",
   "metadata": {},
   "source": [
    "Here the same process repeats but now the value of a = 2, So now 2 is added again to a."
   ]
  },
  {
   "cell_type": "code",
   "execution_count": 8,
   "id": "ce00a96e",
   "metadata": {},
   "outputs": [],
   "source": [
    "b()"
   ]
  },
  {
   "cell_type": "markdown",
   "id": "aee67d6c",
   "metadata": {},
   "source": [
    "Same process is repeated one more time."
   ]
  },
  {
   "cell_type": "code",
   "execution_count": 9,
   "id": "e9259f9d",
   "metadata": {},
   "outputs": [],
   "source": [
    "b()"
   ]
  },
  {
   "cell_type": "markdown",
   "id": "df4945a5",
   "metadata": {},
   "source": [
    "At last when we print a, its value is been added 2+2+2 = 6."
   ]
  },
  {
   "cell_type": "code",
   "execution_count": 10,
   "id": "4a76f5f9",
   "metadata": {},
   "outputs": [
    {
     "data": {
      "text/plain": [
       "6"
      ]
     },
     "execution_count": 10,
     "metadata": {},
     "output_type": "execute_result"
    }
   ],
   "source": [
    "a"
   ]
  },
  {
   "cell_type": "markdown",
   "id": "68d10a36",
   "metadata": {},
   "source": [
    "<h3>Question 2</h3>\n",
    "<h4>Function fileLength(), given to you, takes the name of a file as input and returns\n",
    "the length of the file.</h4>\n",
    "<h4>If the file cannot be found by the interpreter or if it cannot be read\n",
    "as a text file, an exception will be raised. Modify function fileLength() so that a\n",
    "friendly message is printed instead.</h4>"
   ]
  },
  {
   "cell_type": "code",
   "execution_count": 18,
   "id": "18e7de8b",
   "metadata": {},
   "outputs": [],
   "source": [
    "def fileLength(name):       \n",
    "    try:\n",
    "        file = open(name)  #To open the file\n",
    "        contents = file.read()  #Read the File content and store it in contents variable\n",
    "        file.close()  \n",
    "        print(len(contents))  #Counting length of the file\n",
    "    except:\n",
    "        print(f\"File {name} not found.\")  #If file is not found or the name is incorect it will print this"
   ]
  },
  {
   "cell_type": "code",
   "execution_count": 20,
   "id": "8f4aa236",
   "metadata": {},
   "outputs": [
    {
     "name": "stdout",
     "output_type": "stream",
     "text": [
      "123\n"
     ]
    }
   ],
   "source": [
    "fileLength('Filelength.txt')"
   ]
  },
  {
   "cell_type": "code",
   "execution_count": 21,
   "id": "54303aea",
   "metadata": {},
   "outputs": [
    {
     "name": "stdout",
     "output_type": "stream",
     "text": [
      "File Filelength.py not found.\n"
     ]
    }
   ],
   "source": [
    "fileLength('Filelength.py')"
   ]
  },
  {
   "cell_type": "markdown",
   "id": "38ef8e95",
   "metadata": {},
   "source": [
    "<h3>Question 3</h3>\n",
    "<h4>Write a class named Marsupial that can be used as shown</h4>\n",
    "<h4>Now write a class named Kangaroo as a subclass of Marsupial that inherits all the\n",
    "attributes of Marsupial and also:<br><br>\n",
    "1.extends the Marsupial __init__ constructor to take, as input, the\n",
    "coordinates x and y of the Kangaroo object,<br>\n",
    "2.supports method jump that takes number values dx and dy as input and\n",
    "moves the kangaroo by dx units along the x-axis and by dy units along the yaxis, and<br>\n",
    "3.overloads the __str__ operator so it behaves as shown below.</h4>"
   ]
  },
  {
   "cell_type": "code",
   "execution_count": 9,
   "id": "1fe924f9",
   "metadata": {},
   "outputs": [],
   "source": [
    "class Marsupial:\n",
    "    def __init__(self, x = 0, y = 0):\n",
    "        self.i = []\n",
    "        self.x = x\n",
    "        self.y = y\n",
    "    \n",
    "    def put_in_pouch(self, value):  #To insert value in the queue.\n",
    "        return self.i.append(value)\n",
    "    \n",
    "    def pouch_contents(self):  #To print the content of the queue.\n",
    "        return self.i\n",
    "    \n",
    "    def jump(self, x1, y1):  #To move the kangaroo by the x and y coordinates.\n",
    "        self.x += x1\n",
    "        self.y += y1\n",
    "\n",
    "class Kangaroo(Marsupial):  #Kangaroo class which is a subclass of Marsupial\n",
    "    def __init__(self, x=0, y=0):\n",
    "        super().__init__(x, y)\n",
    "        \n",
    "    def __str__(self):  #Printing the coordinates of the Kangaroo\n",
    "        return f\"I am a Kangaroo located at coordinates ({self.x}, {self.y})\""
   ]
  },
  {
   "cell_type": "code",
   "execution_count": 10,
   "id": "69434bfa",
   "metadata": {},
   "outputs": [],
   "source": [
    "m = Marsupial()\n",
    "k = Kangaroo(0,0)"
   ]
  },
  {
   "cell_type": "code",
   "execution_count": 4,
   "id": "62f48a73",
   "metadata": {},
   "outputs": [],
   "source": [
    "m.put_in_pouch('doll')\n",
    "m.put_in_pouch('firetruck')\n",
    "m.put_in_pouch('kitten')"
   ]
  },
  {
   "cell_type": "code",
   "execution_count": 5,
   "id": "b1882996",
   "metadata": {},
   "outputs": [
    {
     "data": {
      "text/plain": [
       "['doll', 'firetruck', 'kitten']"
      ]
     },
     "execution_count": 5,
     "metadata": {},
     "output_type": "execute_result"
    }
   ],
   "source": [
    "m.pouch_contents()"
   ]
  },
  {
   "cell_type": "code",
   "execution_count": 11,
   "id": "18f51c43",
   "metadata": {},
   "outputs": [
    {
     "name": "stdout",
     "output_type": "stream",
     "text": [
      "I am a Kangaroo located at coordinates (0, 0)\n"
     ]
    }
   ],
   "source": [
    "print(k)"
   ]
  },
  {
   "cell_type": "code",
   "execution_count": 13,
   "id": "4cfb1eca",
   "metadata": {},
   "outputs": [],
   "source": [
    "k.put_in_pouch('doll')\n",
    "k.put_in_pouch('firetruck')\n",
    "k.put_in_pouch('kitten')"
   ]
  },
  {
   "cell_type": "code",
   "execution_count": 14,
   "id": "7bb4b8ee",
   "metadata": {},
   "outputs": [
    {
     "data": {
      "text/plain": [
       "['doll', 'firetruck', 'kitten']"
      ]
     },
     "execution_count": 14,
     "metadata": {},
     "output_type": "execute_result"
    }
   ],
   "source": [
    "k.pouch_contents()"
   ]
  },
  {
   "cell_type": "code",
   "execution_count": 15,
   "id": "1460be99",
   "metadata": {},
   "outputs": [],
   "source": [
    "k.jump(1,0)\n",
    "k.jump(1,0)\n",
    "k.jump(1,0)"
   ]
  },
  {
   "cell_type": "code",
   "execution_count": 16,
   "id": "94d914ca",
   "metadata": {},
   "outputs": [
    {
     "name": "stdout",
     "output_type": "stream",
     "text": [
      "I am a Kangaroo located at coordinates (3, 0)\n"
     ]
    }
   ],
   "source": [
    "print(k)"
   ]
  },
  {
   "cell_type": "markdown",
   "id": "93ae9750",
   "metadata": {},
   "source": [
    "<h3>Question 4</h3>\n",
    "<h4>Write function collatz() that takes a positive integer x as input and prints the\n",
    "Collatz sequence starting at x. A Collatz sequence is obtained by repeatedly applying\n",
    "this rule to the previous number x in the sequence.</h4>\n",
    "<h4>Your function should stop when the sequence gets to number 1. Your\n",
    "implementation must be recursive, without any loops.</h4>"
   ]
  },
  {
   "cell_type": "code",
   "execution_count": 30,
   "id": "f8867f45",
   "metadata": {},
   "outputs": [],
   "source": [
    "def  collatz(num):  #Function to perform Collatz Sequence\n",
    "    collatz_list = []  #List to store final values\n",
    "    collatz_list.append(num)\n",
    "    \n",
    "    while(num != 1):\n",
    "        if num%2==0:  #Checking if even then X/2\n",
    "            num = num//2\n",
    "            collatz_list.append(num)  #Appending the value to list\n",
    "        else:  #if odd then 3X + 1\n",
    "            num = num*3 + 1\n",
    "            collatz_list.append(num)  #Appending the value to list\n",
    "    \n",
    "    print(collatz_list)"
   ]
  },
  {
   "cell_type": "code",
   "execution_count": 31,
   "id": "a7276b87",
   "metadata": {},
   "outputs": [
    {
     "name": "stdout",
     "output_type": "stream",
     "text": [
      "[1]\n"
     ]
    }
   ],
   "source": [
    "collatz(1)"
   ]
  },
  {
   "cell_type": "code",
   "execution_count": 32,
   "id": "2acd81ae",
   "metadata": {},
   "outputs": [
    {
     "name": "stdout",
     "output_type": "stream",
     "text": [
      "[10, 5, 16, 8, 4, 2, 1]\n"
     ]
    }
   ],
   "source": [
    "collatz(10)"
   ]
  },
  {
   "cell_type": "markdown",
   "id": "47a9a89f",
   "metadata": {},
   "source": [
    "<h3>Question 5</h3>\n",
    "<h4>Write a recursive method binary() that takes a non-negative\n",
    "integer n and prints the binary representation of integer n.</h4>"
   ]
  },
  {
   "cell_type": "code",
   "execution_count": 22,
   "id": "ad8e59aa",
   "metadata": {},
   "outputs": [],
   "source": [
    "def binary(num):  #Creating recursive function to perform number to binary operation\n",
    "    if num < 2:   #Binary value of 0 is 0 and 1 is 1 So, if the value is less than 2 then it will return same value\n",
    "        return num\n",
    "    elif num < 0:  #If the value will be negative then it will print this message\n",
    "        print(\"Please enter Positive Value.\")\n",
    "    else:\n",
    "        recursive_binary = str(binary(num // 2))  #Use of recursive method\n",
    "        result = recursive_binary + str(num % 2)  #Storing the final binary string in result variable\n",
    "        return result\n",
    "    \n",
    "#https://stackoverflow.com/questions/9371957/recursive-function-that-prints-the-binary-representation-of-the-integer"
   ]
  },
  {
   "cell_type": "code",
   "execution_count": 23,
   "id": "7f7535c3",
   "metadata": {},
   "outputs": [
    {
     "data": {
      "text/plain": [
       "0"
      ]
     },
     "execution_count": 23,
     "metadata": {},
     "output_type": "execute_result"
    }
   ],
   "source": [
    "binary(0)"
   ]
  },
  {
   "cell_type": "code",
   "execution_count": 24,
   "id": "93f22819",
   "metadata": {},
   "outputs": [
    {
     "data": {
      "text/plain": [
       "1"
      ]
     },
     "execution_count": 24,
     "metadata": {},
     "output_type": "execute_result"
    }
   ],
   "source": [
    "binary(1)"
   ]
  },
  {
   "cell_type": "code",
   "execution_count": 25,
   "id": "7d1b3633",
   "metadata": {},
   "outputs": [
    {
     "data": {
      "text/plain": [
       "'11'"
      ]
     },
     "execution_count": 25,
     "metadata": {},
     "output_type": "execute_result"
    }
   ],
   "source": [
    "binary(3)"
   ]
  },
  {
   "cell_type": "code",
   "execution_count": 26,
   "id": "004fd9d6",
   "metadata": {},
   "outputs": [
    {
     "data": {
      "text/plain": [
       "'1001'"
      ]
     },
     "execution_count": 26,
     "metadata": {},
     "output_type": "execute_result"
    }
   ],
   "source": [
    "binary(9)"
   ]
  },
  {
   "cell_type": "markdown",
   "id": "a6d6cfba",
   "metadata": {},
   "source": [
    "<h3>Question 8</h3>\n",
    "<h4>Write SQL queries on the below database table that return:</h4>\n",
    "<h4>a) All the temperature data.<br>\n",
    "b) All the cities, but without repetition.<br>\n",
    "c) All the records for India.<br>\n",
    "d) All the Fall records.<br>\n",
    "e) The city, country, and season for which the average rainfall is between 200\n",
    "and 400 millimeters.<br>\n",
    "f) The city and country for which the average Fall temperature is above 20\n",
    "degrees, in increasing temperature order.<br>\n",
    "g) The total annual rainfall for Cairo.<br>\n",
    "h) The total rainfall for each season.<br></h4>"
   ]
  },
  {
   "cell_type": "code",
   "execution_count": 32,
   "id": "50393b73",
   "metadata": {},
   "outputs": [],
   "source": [
    "import sqlite3\n",
    "con = sqlite3.connect('Problem Set 2.db')\n",
    "cur = con.cursor()"
   ]
  },
  {
   "cell_type": "code",
   "execution_count": null,
   "id": "4ef6dda4",
   "metadata": {},
   "outputs": [],
   "source": [
    "cur.execute(\"CREATE TABLE temperature (City text, Country text, Season text, Temperature float, Rainfall float)\")"
   ]
  },
  {
   "cell_type": "code",
   "execution_count": 10,
   "id": "f48c6ab2",
   "metadata": {},
   "outputs": [
    {
     "data": {
      "text/plain": [
       "<sqlite3.Cursor at 0x220c7a52040>"
      ]
     },
     "execution_count": 10,
     "metadata": {},
     "output_type": "execute_result"
    }
   ],
   "source": [
    "cur.execute(\"INSERT INTO temperature VALUES ('Mumbai', 'India', 'Winter', 24.8, 5.9)\")\n",
    "cur.execute(\"INSERT INTO temperature VALUES ('Mumbai', 'India', 'Spring', 28.4, 16.2)\")\n",
    "cur.execute(\"INSERT INTO temperature VALUES ('Mumbai', 'India', 'Summer', 27.9, 1549.4)\")\n",
    "cur.execute(\"INSERT INTO temperature VALUES ('Mumbai', 'India', 'Fall', 27.6, 346.0)\")\n",
    "cur.execute(\"INSERT INTO temperature VALUES ('London', 'United Kingdom', 'Winter', 4.2, 207.7)\")\n",
    "cur.execute(\"INSERT INTO temperature VALUES ('London', 'United Kingdom', 'Spring', 8.3, 169.6)\")\n",
    "cur.execute(\"INSERT INTO temperature VALUES ('London', 'United Kingdom', 'Summer', 15.7, 157.0)\")\n",
    "cur.execute(\"INSERT INTO temperature VALUES ('London', 'United Kingdom', 'Fall', 10.4, 218.5)\")\n",
    "cur.execute(\"INSERT INTO temperature VALUES ('Cairo', 'Egypt', 'Winter', 13.6, 16.5)\")\n",
    "cur.execute(\"INSERT INTO temperature VALUES ('Cairo', 'Egypt', 'Spring', 20.7, 6.5)\")\n",
    "cur.execute(\"INSERT INTO temperature VALUES ('Cairo', 'Egypt', 'Summer', 27.7, 0.1)\")\n",
    "cur.execute(\"INSERT INTO temperature VALUES ('Cairo', 'Egypt', 'Fall', 22.2, 4.5)\")"
   ]
  },
  {
   "cell_type": "markdown",
   "id": "f4274b4f",
   "metadata": {},
   "source": [
    "<b>All the temperature data.</b>"
   ]
  },
  {
   "cell_type": "code",
   "execution_count": 11,
   "id": "628baa73",
   "metadata": {},
   "outputs": [
    {
     "data": {
      "text/plain": [
       "[('Mumbai', 'India', 'Winter', 24.8, 5.9),\n",
       " ('Mumbai', 'India', 'Spring', 28.4, 16.2),\n",
       " ('Mumbai', 'India', 'Summer', 27.9, 1549.4),\n",
       " ('Mumbai', 'India', 'Fall', 27.6, 346.0),\n",
       " ('London', 'United Kingdom', 'Winter', 4.2, 207.7),\n",
       " ('London', 'United Kingdom', 'Spring', 8.3, 169.6),\n",
       " ('London', 'United Kingdom', 'Summer', 15.7, 157.0),\n",
       " ('London', 'United Kingdom', 'Fall', 10.4, 218.5),\n",
       " ('Cairo', 'Egypt', 'Winter', 13.6, 16.5),\n",
       " ('Cairo', 'Egypt', 'Spring', 20.7, 6.5),\n",
       " ('Cairo', 'Egypt', 'Summer', 27.7, 0.1),\n",
       " ('Cairo', 'Egypt', 'Fall', 22.2, 4.5)]"
      ]
     },
     "execution_count": 11,
     "metadata": {},
     "output_type": "execute_result"
    }
   ],
   "source": [
    "cur.execute(\"SELECT * FROM temperature\")\n",
    "cur.fetchall()"
   ]
  },
  {
   "cell_type": "markdown",
   "id": "70655150",
   "metadata": {},
   "source": [
    "<b>All the cities, but without repetition.</b>"
   ]
  },
  {
   "cell_type": "code",
   "execution_count": 12,
   "id": "b5967414",
   "metadata": {},
   "outputs": [
    {
     "data": {
      "text/plain": [
       "[('Cairo',), ('London',), ('Mumbai',)]"
      ]
     },
     "execution_count": 12,
     "metadata": {},
     "output_type": "execute_result"
    }
   ],
   "source": [
    "cur.execute(\"SELECT City FROM temperature GROUP BY City\")\n",
    "cur.fetchall()"
   ]
  },
  {
   "cell_type": "markdown",
   "id": "fbc33d30",
   "metadata": {},
   "source": [
    "<b>All the records for India.</b>"
   ]
  },
  {
   "cell_type": "code",
   "execution_count": 13,
   "id": "374581b8",
   "metadata": {},
   "outputs": [
    {
     "data": {
      "text/plain": [
       "[('Mumbai', 'India', 'Winter', 24.8, 5.9),\n",
       " ('Mumbai', 'India', 'Spring', 28.4, 16.2),\n",
       " ('Mumbai', 'India', 'Summer', 27.9, 1549.4),\n",
       " ('Mumbai', 'India', 'Fall', 27.6, 346.0)]"
      ]
     },
     "execution_count": 13,
     "metadata": {},
     "output_type": "execute_result"
    }
   ],
   "source": [
    "cur.execute(\"SELECT * FROM temperature WHERE Country = 'India'\")\n",
    "cur.fetchall()"
   ]
  },
  {
   "cell_type": "markdown",
   "id": "c67b421f",
   "metadata": {},
   "source": [
    "<b>All the Fall records.</b>"
   ]
  },
  {
   "cell_type": "code",
   "execution_count": 14,
   "id": "c4955b56",
   "metadata": {},
   "outputs": [
    {
     "data": {
      "text/plain": [
       "[('Mumbai', 'India', 'Fall', 27.6, 346.0),\n",
       " ('London', 'United Kingdom', 'Fall', 10.4, 218.5),\n",
       " ('Cairo', 'Egypt', 'Fall', 22.2, 4.5)]"
      ]
     },
     "execution_count": 14,
     "metadata": {},
     "output_type": "execute_result"
    }
   ],
   "source": [
    "cur.execute(\"SELECT * FROM temperature WHERE Season = 'Fall'\")\n",
    "cur.fetchall()"
   ]
  },
  {
   "cell_type": "markdown",
   "id": "2c3cfd02",
   "metadata": {},
   "source": [
    "<b>The city, country, and season for which the average rainfall is between 200 and 400 millimeters.</b>"
   ]
  },
  {
   "cell_type": "code",
   "execution_count": 15,
   "id": "908b7ecb",
   "metadata": {},
   "outputs": [
    {
     "data": {
      "text/plain": [
       "[('Mumbai', 'India', 'Fall'),\n",
       " ('London', 'United Kingdom', 'Winter'),\n",
       " ('London', 'United Kingdom', 'Fall')]"
      ]
     },
     "execution_count": 15,
     "metadata": {},
     "output_type": "execute_result"
    }
   ],
   "source": [
    "cur.execute(\"SELECT City, Country, Season FROM temperature WHERE Rainfall BETWEEN 200 AND 400\")\n",
    "cur.fetchall()"
   ]
  },
  {
   "cell_type": "markdown",
   "id": "f7111285",
   "metadata": {},
   "source": [
    "<b>The city and country for which the average Fall temperature is above 20 degrees, in increasing temperature order.</b>"
   ]
  },
  {
   "cell_type": "code",
   "execution_count": 16,
   "id": "0223e43e",
   "metadata": {},
   "outputs": [
    {
     "data": {
      "text/plain": [
       "[('Cairo', 'Egypt'), ('Mumbai', 'India')]"
      ]
     },
     "execution_count": 16,
     "metadata": {},
     "output_type": "execute_result"
    }
   ],
   "source": [
    "cur.execute(\"SELECT City, Country FROM temperature WHERE Season = 'Fall' AND Temperature > 20 ORDER BY Temperature\")\n",
    "cur.fetchall()"
   ]
  },
  {
   "cell_type": "markdown",
   "id": "a651bfe3",
   "metadata": {},
   "source": [
    "<b>The total annual rainfall for Cairo.</b>"
   ]
  },
  {
   "cell_type": "code",
   "execution_count": 17,
   "id": "a4f16c2b",
   "metadata": {},
   "outputs": [
    {
     "data": {
      "text/plain": [
       "[(27.6,)]"
      ]
     },
     "execution_count": 17,
     "metadata": {},
     "output_type": "execute_result"
    }
   ],
   "source": [
    "cur.execute(\"SELECT SUM(Rainfall) FROM temperature WHERE City = 'Cairo'\")\n",
    "cur.fetchall()"
   ]
  },
  {
   "cell_type": "markdown",
   "id": "c6e5bfc1",
   "metadata": {},
   "source": [
    "<b>The total rainfall for each season.</b>"
   ]
  },
  {
   "cell_type": "code",
   "execution_count": 21,
   "id": "2a28e914",
   "metadata": {},
   "outputs": [
    {
     "data": {
      "text/plain": [
       "[('Fall', 569.0),\n",
       " ('Spring', 192.29999999999998),\n",
       " ('Summer', 1706.5),\n",
       " ('Winter', 230.1)]"
      ]
     },
     "execution_count": 21,
     "metadata": {},
     "output_type": "execute_result"
    }
   ],
   "source": [
    "cur.execute(\"SELECT Season, SUM(Rainfall) FROM temperature GROUP BY Season\")\n",
    "cur.fetchall()"
   ]
  },
  {
   "cell_type": "markdown",
   "id": "95a04444",
   "metadata": {},
   "source": [
    "<h3>Question 9</h3>\n",
    "<h4>Suppose list words is defined as follows:</h4>"
   ]
  },
  {
   "cell_type": "code",
   "execution_count": 20,
   "id": "121933fd",
   "metadata": {},
   "outputs": [],
   "source": [
    "words = ['The', 'quick', 'brown', 'fox', 'jumps', 'over', 'the', 'lazy', 'dog']"
   ]
  },
  {
   "cell_type": "markdown",
   "id": "c37de120",
   "metadata": {},
   "source": [
    "<b>Convert all the values of list to Upper Case</b>"
   ]
  },
  {
   "cell_type": "code",
   "execution_count": 36,
   "id": "f628aea9",
   "metadata": {},
   "outputs": [
    {
     "name": "stdout",
     "output_type": "stream",
     "text": [
      "['THE', 'QUICK', 'BROWN', 'FOX', 'JUMPS', 'OVER', 'THE', 'LAZY', 'DOG']\n"
     ]
    }
   ],
   "source": [
    "upper_case = [i.upper() for i in words]\n",
    "print(upper_case)"
   ]
  },
  {
   "cell_type": "markdown",
   "id": "b4984300",
   "metadata": {},
   "source": [
    "<b>Convert all the values of the Upper Case list basck to Lower Case</b>"
   ]
  },
  {
   "cell_type": "code",
   "execution_count": 38,
   "id": "3a7d9140",
   "metadata": {},
   "outputs": [
    {
     "name": "stdout",
     "output_type": "stream",
     "text": [
      "['the', 'quick', 'brown', 'fox', 'jumps', 'over', 'the', 'lazy', 'dog']\n"
     ]
    }
   ],
   "source": [
    "lower_case = [i.lower() for i in upper_case]\n",
    "print(lower_case)"
   ]
  },
  {
   "cell_type": "markdown",
   "id": "dbb111b4",
   "metadata": {},
   "source": [
    "<b>Creating a new list which stores length of the values of words list</b>"
   ]
  },
  {
   "cell_type": "code",
   "execution_count": 60,
   "id": "080a470d",
   "metadata": {},
   "outputs": [
    {
     "name": "stdout",
     "output_type": "stream",
     "text": [
      "[3, 5, 5, 3, 5, 4, 3, 4, 3]\n"
     ]
    }
   ],
   "source": [
    "i = 0\n",
    "lenght = []\n",
    "while(i < len(words)):\n",
    "    length.append(len(words[i]))\n",
    "    i+=1\n",
    "print(length)"
   ]
  },
  {
   "cell_type": "markdown",
   "id": "79759a6a",
   "metadata": {},
   "source": [
    "<b>the list containing a list for every word of list words, where each list contains the word in uppercase and lowercase and the length of the word.</b>"
   ]
  },
  {
   "cell_type": "code",
   "execution_count": 63,
   "id": "e13a0926",
   "metadata": {},
   "outputs": [
    {
     "name": "stdout",
     "output_type": "stream",
     "text": [
      "[['THE', 'the', 3], ['QUICK', 'quick', 5], ['BROWN', 'brown', 5], ['FOX', 'fox', 3], ['JUMPS', 'jumps', 5], ['OVER', 'over', 4], ['THE', 'the', 3], ['LAZY', 'lazy', 4], ['DOG', 'dog', 3]]\n"
     ]
    }
   ],
   "source": [
    "i = 0\n",
    "nested_list = []\n",
    "while(i < len(words)):\n",
    "    nested_list.append([words[i].upper(), words[i].lower(), len(words[i])])\n",
    "    i+=1\n",
    "print(nested_list)"
   ]
  },
  {
   "cell_type": "markdown",
   "id": "d4a55bae",
   "metadata": {},
   "source": [
    "<b>the list of words in list words containing 4 or more characters.</b>"
   ]
  },
  {
   "cell_type": "code",
   "execution_count": 66,
   "id": "be8a35f4",
   "metadata": {},
   "outputs": [
    {
     "name": "stdout",
     "output_type": "stream",
     "text": [
      "['The', 'quick', 'brown', 'fox', 'jumps', 'over', 'the', 'lazy', 'dog']\n"
     ]
    }
   ],
   "source": [
    "i = 0 \n",
    "new_list = []\n",
    "while(i < len(words)):\n",
    "    if(len(words)>=4):\n",
    "        new_list.append(words[i])\n",
    "    i+=1\n",
    "print(new_list)"
   ]
  }
 ],
 "metadata": {
  "kernelspec": {
   "display_name": "Python 3 (ipykernel)",
   "language": "python",
   "name": "python3"
  },
  "language_info": {
   "codemirror_mode": {
    "name": "ipython",
    "version": 3
   },
   "file_extension": ".py",
   "mimetype": "text/x-python",
   "name": "python",
   "nbconvert_exporter": "python",
   "pygments_lexer": "ipython3",
   "version": "3.11.4"
  }
 },
 "nbformat": 4,
 "nbformat_minor": 5
}
